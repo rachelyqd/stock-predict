{
 "cells": [
  {
   "cell_type": "code",
   "execution_count": 1,
   "id": "geological-hello",
   "metadata": {},
   "outputs": [
    {
     "name": "stdout",
     "output_type": "stream",
     "text": [
      "Requirement already satisfied: pandas_datareader in c:\\users\\rache\\onedrive\\desktop\\cfrm\\521\\code\\my_env\\lib\\site-packages (0.9.0)\n",
      "Requirement already satisfied: requests>=2.19.0 in c:\\users\\rache\\onedrive\\desktop\\cfrm\\521\\code\\my_env\\lib\\site-packages (from pandas_datareader) (2.25.1)\n",
      "Requirement already satisfied: pandas>=0.23 in c:\\users\\rache\\onedrive\\desktop\\cfrm\\521\\code\\my_env\\lib\\site-packages (from pandas_datareader) (1.2.3)\n",
      "Requirement already satisfied: lxml in c:\\users\\rache\\onedrive\\desktop\\cfrm\\521\\code\\my_env\\lib\\site-packages (from pandas_datareader) (4.6.3)\n",
      "Requirement already satisfied: numpy>=1.16.5 in c:\\users\\rache\\onedrive\\desktop\\cfrm\\521\\code\\my_env\\lib\\site-packages (from pandas>=0.23->pandas_datareader) (1.19.5)\n",
      "Requirement already satisfied: pytz>=2017.3 in c:\\users\\rache\\onedrive\\desktop\\cfrm\\521\\code\\my_env\\lib\\site-packages (from pandas>=0.23->pandas_datareader) (2021.1)\n",
      "Requirement already satisfied: python-dateutil>=2.7.3 in c:\\users\\rache\\onedrive\\desktop\\cfrm\\521\\code\\my_env\\lib\\site-packages (from pandas>=0.23->pandas_datareader) (2.8.1)\n",
      "Requirement already satisfied: six>=1.5 in c:\\users\\rache\\onedrive\\desktop\\cfrm\\521\\code\\my_env\\lib\\site-packages (from python-dateutil>=2.7.3->pandas>=0.23->pandas_datareader) (1.15.0)\n",
      "Requirement already satisfied: urllib3<1.27,>=1.21.1 in c:\\users\\rache\\onedrive\\desktop\\cfrm\\521\\code\\my_env\\lib\\site-packages (from requests>=2.19.0->pandas_datareader) (1.26.4)\n",
      "Requirement already satisfied: certifi>=2017.4.17 in c:\\users\\rache\\onedrive\\desktop\\cfrm\\521\\code\\my_env\\lib\\site-packages (from requests>=2.19.0->pandas_datareader) (2020.12.5)\n",
      "Requirement already satisfied: idna<3,>=2.5 in c:\\users\\rache\\onedrive\\desktop\\cfrm\\521\\code\\my_env\\lib\\site-packages (from requests>=2.19.0->pandas_datareader) (2.10)\n",
      "Requirement already satisfied: chardet<5,>=3.0.2 in c:\\users\\rache\\onedrive\\desktop\\cfrm\\521\\code\\my_env\\lib\\site-packages (from requests>=2.19.0->pandas_datareader) (4.0.0)\n"
     ]
    },
    {
     "name": "stderr",
     "output_type": "stream",
     "text": [
      "WARNING: You are using pip version 21.1; however, version 21.1.2 is available.\n",
      "You should consider upgrading via the 'C:\\Users\\rache\\OneDrive\\Desktop\\CFRM\\521\\code\\my_env\\Scripts\\python.exe -m pip install --upgrade pip' command.\n"
     ]
    }
   ],
   "source": [
    "import numpy as np\n",
    "import pandas as pd\n",
    "import sys\n",
    "!{sys.executable} -m pip install pandas_datareader\n",
    "import pandas_datareader.data as web\n",
    "import datetime as dt"
   ]
  },
  {
   "cell_type": "code",
   "execution_count": 2,
   "id": "vocational-contamination",
   "metadata": {},
   "outputs": [
    {
     "name": "stderr",
     "output_type": "stream",
     "text": [
      "WARNING: You are using pip version 21.1; however, version 21.1.2 is available.\n",
      "You should consider upgrading via the 'C:\\Users\\rache\\OneDrive\\Desktop\\CFRM\\521\\code\\my_env\\Scripts\\python.exe -m pip install --upgrade pip' command.\n"
     ]
    },
    {
     "name": "stdout",
     "output_type": "stream",
     "text": [
      "Requirement already satisfied: pyti in c:\\users\\rache\\onedrive\\desktop\\cfrm\\521\\code\\my_env\\lib\\site-packages (0.2.2)\n",
      "Requirement already satisfied: pandas in c:\\users\\rache\\onedrive\\desktop\\cfrm\\521\\code\\my_env\\lib\\site-packages (from pyti) (1.2.3)\n",
      "Requirement already satisfied: numpy in c:\\users\\rache\\onedrive\\desktop\\cfrm\\521\\code\\my_env\\lib\\site-packages (from pyti) (1.19.5)\n",
      "Requirement already satisfied: pytz>=2017.3 in c:\\users\\rache\\onedrive\\desktop\\cfrm\\521\\code\\my_env\\lib\\site-packages (from pandas->pyti) (2021.1)\n",
      "Requirement already satisfied: python-dateutil>=2.7.3 in c:\\users\\rache\\onedrive\\desktop\\cfrm\\521\\code\\my_env\\lib\\site-packages (from pandas->pyti) (2.8.1)\n",
      "Requirement already satisfied: six>=1.5 in c:\\users\\rache\\onedrive\\desktop\\cfrm\\521\\code\\my_env\\lib\\site-packages (from python-dateutil>=2.7.3->pandas->pyti) (1.15.0)\n"
     ]
    }
   ],
   "source": [
    "!{sys.executable} -m pip install pyti\n",
    "import technical_analysis as ta\n",
    "import decision_profit as dp\n",
    "import process_data as proc"
   ]
  },
  {
   "cell_type": "code",
   "execution_count": 3,
   "id": "editorial-effort",
   "metadata": {},
   "outputs": [],
   "source": [
    "import warnings\n",
    "warnings.filterwarnings('ignore')"
   ]
  },
  {
   "cell_type": "code",
   "execution_count": 4,
   "id": "historical-exhibition",
   "metadata": {},
   "outputs": [],
   "source": [
    "# data set up\n",
    "# getting train, test, validation sets and corresponding dataframes containing closing prices and indicators\n",
    "tickers = ['^GSPC', '^BSESN']\n",
    "dfs = proc.get_process_df(tickers)\n",
    "X_trains, X_tests, y_trains, y_tests, dfs_train, dfs_test = proc.get_train_test(dfs)\n",
    "X_train_subs, X_vals, y_train_subs, y_vals, dfs_train_sub, dfs_val = proc.get_train_val(dfs_train, X_trains, y_trains)"
   ]
  },
  {
   "cell_type": "code",
   "execution_count": 5,
   "id": "auburn-rachel",
   "metadata": {},
   "outputs": [],
   "source": [
    "names = ['S&P 500','BSE SENSEX']\n",
    "\n",
    "# storing total extra profits achieved by each model\n",
    "extra_profit_untuned = {}\n",
    "extra_profit_msetune = {}\n",
    "extra_profit_protune = {}"
   ]
  },
  {
   "cell_type": "markdown",
   "id": "historical-forth",
   "metadata": {},
   "source": [
    "## Using default parameters ##"
   ]
  },
  {
   "cell_type": "markdown",
   "id": "flexible-equity",
   "metadata": {},
   "source": [
    "<h3> Support Vector Regressor "
   ]
  },
  {
   "cell_type": "code",
   "execution_count": 6,
   "id": "virtual-gazette",
   "metadata": {},
   "outputs": [],
   "source": [
    "from sklearn.svm import SVR\n",
    "from sklearn.pipeline import Pipeline\n",
    "from sklearn.preprocessing import StandardScaler\n",
    "from sklearn.metrics import mean_squared_error\n",
    "\n",
    "# adding scaler before SVR\n",
    "models = []\n",
    "for i in range(len(tickers)):\n",
    "    models.append(Pipeline([('scaler', StandardScaler()), ('svr', SVR())]))"
   ]
  },
  {
   "cell_type": "code",
   "execution_count": 7,
   "id": "promotional-garden",
   "metadata": {
    "scrolled": true
   },
   "outputs": [
    {
     "name": "stdout",
     "output_type": "stream",
     "text": [
      "Training set\n",
      "S&P 500\n",
      "number of trading positions taken with actual trend: 30\n",
      "number of trading positions taken with predicted trend: 112\n",
      "BSE SENSEX\n",
      "number of trading positions taken with actual trend: 38\n",
      "number of trading positions taken with predicted trend: 118\n",
      "Training set\n",
      "S&P 500\n",
      "profit with actual trend: 40.402841277066365\n",
      "profit with predicted trend: 92.59604665016755\n",
      "BSE SENSEX\n",
      "profit with actual trend: 12.228547748628062\n",
      "profit with predicted trend: 42.438792982778125\n",
      "average MSE: 0.030449866872565522\n"
     ]
    }
   ],
   "source": [
    "# train and training set summary\n",
    "dp.train_and_summary(models, names, dfs_train, X_trains, y_trains)"
   ]
  },
  {
   "cell_type": "code",
   "execution_count": 8,
   "id": "adjacent-cosmetic",
   "metadata": {},
   "outputs": [
    {
     "name": "stdout",
     "output_type": "stream",
     "text": [
      "Test set\n",
      "S&P 500\n",
      "number of trading positions taken with actual trend: 9\n",
      "number of trading positions taken with predicted trend: 29\n",
      "BSE SENSEX\n",
      "number of trading positions taken with actual trend: 4\n",
      "number of trading positions taken with predicted trend: 22\n",
      "Test set\n",
      "S&P 500\n",
      "profit with actual trend: 3.9777336540590267\n",
      "profit with predicted trend: 14.479827631999376\n",
      "BSE SENSEX\n",
      "profit with actual trend: 30.466683849995118\n",
      "profit with predicted trend: 28.447322251886572\n",
      "Average MSE SVR 0.23375805782990988\n"
     ]
    }
   ],
   "source": [
    "# test set summary\n",
    "dp.test_summary(models, names, 'SVR', dfs_test, X_tests, y_tests, extra_profit_untuned, mse=True)"
   ]
  },
  {
   "cell_type": "code",
   "execution_count": 23,
   "id": "defined-portland",
   "metadata": {},
   "outputs": [
    {
     "data": {
      "image/png": "[encoded data removed]",
      "text/plain": [
       "<Figure size 1008x432 with 2 Axes>"
      ]
     },
     "metadata": {
      "needs_background": "light"
     },
     "output_type": "display_data"
    },
    {
     "data": {
      "image/png": "[encoded data removed]",
      "text/plain": [
       "<Figure size 1008x432 with 2 Axes>"
      ]
     },
     "metadata": {
      "needs_background": "light"
     },
     "output_type": "display_data"
    }
   ],
   "source": [
    "# trading activities\n",
    "\n",
    "for i in range(2):\n",
    "    dp.plot_signals(dfs_test[i], names[i])"
   ]
  },
  {
   "cell_type": "markdown",
   "id": "metallic-speed",
   "metadata": {},
   "source": [
    "## KNN ##"
   ]
  },
  {
   "cell_type": "code",
   "execution_count": 8,
   "id": "abroad-poultry",
   "metadata": {},
   "outputs": [
    {
     "name": "stdout",
     "output_type": "stream",
     "text": [
      "Training set\n",
      "S&P 500\n",
      "number of trading positions taken with actual trend: 30\n",
      "number of trading positions taken with predicted trend: 126\n",
      "BSE SENSEX\n",
      "number of trading positions taken with actual trend: 38\n",
      "number of trading positions taken with predicted trend: 132\n",
      "Training set\n",
      "S&P 500\n",
      "profit with actual trend: 40.402841277066365\n",
      "profit with predicted trend: 98.27511114432994\n",
      "BSE SENSEX\n",
      "profit with actual trend: 12.228547748628062\n",
      "profit with predicted trend: 47.24193047878571\n",
      "average MSE: 0.024357598608309595\n"
     ]
    }
   ],
   "source": [
    "from sklearn.neighbors import KNeighborsRegressor\n",
    "\n",
    "models = []\n",
    "for i in range(len(tickers)):\n",
    "    models.append(Pipeline([('scaler', StandardScaler()), ('knn', KNeighborsRegressor())]))\n",
    "\n",
    "# train and train set summary\n",
    "dp.train_and_summary(models, names, dfs_train, X_trains, y_trains)"
   ]
  },
  {
   "cell_type": "code",
   "execution_count": 29,
   "id": "animal-repository",
   "metadata": {},
   "outputs": [
    {
     "name": "stdout",
     "output_type": "stream",
     "text": [
      "Test set\n",
      "S&P 500\n",
      "number of trading positions taken with actual trend: 9\n",
      "number of trading positions taken with predicted trend: 25\n",
      "BSE SENSEX\n",
      "number of trading positions taken with actual trend: 4\n",
      "number of trading positions taken with predicted trend: 22\n",
      "Test set\n",
      "S&P 500\n",
      "profit with actual trend: 3.9777336540590267\n",
      "profit with predicted trend: 13.156348008848369\n",
      "BSE SENSEX\n",
      "profit with actual trend: 30.466683849995118\n",
      "profit with predicted trend: 28.36706162154242\n",
      "Average MSE KNN 0.20876160305174465\n"
     ]
    }
   ],
   "source": [
    "dp.test_summary(models, names, 'KNN', dfs_test, X_tests, y_tests, extra_profit_untuned, mse=True)"
   ]
  },
  {
   "cell_type": "code",
   "execution_count": 11,
   "id": "parallel-shopping",
   "metadata": {},
   "outputs": [
    {
     "data": {
      "text/plain": [
       "{'SVR': 8.482732379831804, 'KNN': 7.675783696460169}"
      ]
     },
     "execution_count": 11,
     "metadata": {},
     "output_type": "execute_result"
    }
   ],
   "source": [
    "extra_profit_untuned"
   ]
  },
  {
   "cell_type": "markdown",
   "id": "indonesian-parent",
   "metadata": {},
   "source": [
    "## parameter tuning with cross validation ##\n",
    "\n",
    "<h3> using MSE metric (find model that produces smallest mse)\n",
    "    \n",
    "<h3> SVR (adding polynomial degrees and pick the best gamma and kernel)"
   ]
  },
  {
   "cell_type": "markdown",
   "id": "attempted-apollo",
   "metadata": {},
   "source": [
    "Notice: because I used time series split, the validation set will be grouped according to time and thee will only be one combination. Therefore, it is not possible to do multiple iterations so that the parameters will be found with only one iteration."
   ]
  },
  {
   "cell_type": "code",
   "execution_count": 21,
   "id": "engaged-sentence",
   "metadata": {
    "scrolled": false
   },
   "outputs": [
    {
     "name": "stdout",
     "output_type": "stream",
     "text": [
      "SVR parameters that yields smallest MSE for each security: [(1, 0.7875660249889862, 'rbf'), (1, 0.7965261308120505, 'rbf')]\n"
     ]
    }
   ],
   "source": [
    "from sklearn.model_selection import cross_val_score\n",
    "from scipy.stats import loguniform\n",
    "from itertools import product\n",
    "from sklearn.preprocessing import PolynomialFeatures\n",
    "\n",
    "extra_profit1 = {}\n",
    "Cs = loguniform.rvs(0.05, 5, size=10, random_state=42)\n",
    "kernels = ['rbf', 'sigmoid']\n",
    "ps = np.arange(1,6)\n",
    "parameters = [ps, Cs, kernels]\n",
    "\n",
    "param_list = list(product(*parameters))\n",
    "best_params = []\n",
    "\n",
    "for i in range(len(tickers)):\n",
    "    best_param = []\n",
    "    best_score = np.inf\n",
    "    for param in param_list:\n",
    "        pipe = Pipeline([('scaler', StandardScaler()), \n",
    "                         ('poly', PolynomialFeatures(degree=param[0])),\n",
    "                          ('svr', SVR(C=param[1], kernel=param[2]))])\n",
    "        score = dp.cv_mse(pipe, i, X_train_subs, y_train_subs, X_vals, y_vals)\n",
    "        if score < best_score:\n",
    "            best_score = score\n",
    "            best_param = param\n",
    "    best_params.append(best_param)\n",
    "print(\"SVR parameters that yields smallest MSE for each security:\", best_params)"
   ]
  },
  {
   "cell_type": "code",
   "execution_count": 22,
   "id": "unable-mountain",
   "metadata": {},
   "outputs": [
    {
     "name": "stdout",
     "output_type": "stream",
     "text": [
      "SVR results using the parameters that yields the lowest MSE\n",
      "Test set\n",
      "S&P 500\n",
      "number of trading positions taken with actual trend: 9\n",
      "number of trading positions taken with predicted trend: 29\n",
      "BSE SENSEX\n",
      "number of trading positions taken with actual trend: 4\n",
      "number of trading positions taken with predicted trend: 22\n",
      "Test set\n",
      "S&P 500\n",
      "profit with actual trend: 3.9777336540590267\n",
      "profit with predicted trend: 14.479827631999376\n",
      "BSE SENSEX\n",
      "profit with actual trend: 30.466683849995118\n",
      "profit with predicted trend: 28.36706162154242\n",
      "Average MSE SVR 0.22909620382523987\n"
     ]
    }
   ],
   "source": [
    "best_params = [(1, 0.7875660249889862, 'rbf'), (1, 0.7965261308120505, 'rbf')]\n",
    "\n",
    "models = []\n",
    "for i in range(len(tickers)):\n",
    "    pipe = Pipeline([('scaler', StandardScaler()), \n",
    "                         ('poly', PolynomialFeatures(degree=best_params[i][0])),\n",
    "                          ('svr', SVR(C=best_params[i][1], kernel=best_params[i][2]))])\n",
    "    models.append(pipe.fit(X_trains[i], y_trains[i]))\n",
    "\n",
    "print(\"SVR results using the parameters that yields the lowest MSE\")\n",
    "dp.test_summary(models, names, 'SVR', dfs_test, X_tests, y_tests, extra_profit_msetune, mse=True)"
   ]
  },
  {
   "cell_type": "markdown",
   "id": "curious-receiver",
   "metadata": {},
   "source": [
    "<h3>KNN"
   ]
  },
  {
   "cell_type": "code",
   "execution_count": 30,
   "id": "burning-liberty",
   "metadata": {},
   "outputs": [
    {
     "name": "stdout",
     "output_type": "stream",
     "text": [
      "number of neighbors that yields lowest MSE for each security: [9, 8]\n"
     ]
    }
   ],
   "source": [
    "from sklearn.neighbors import KNeighborsRegressor\n",
    "\n",
    "# find the optimal number of neighbors\n",
    "ks = np.arange(1, 20)\n",
    "best_ks = []\n",
    "\n",
    "for i in range(len(tickers)):\n",
    "    best_k = 0\n",
    "    best_score = np.inf\n",
    "    for k in ks:\n",
    "        pipe = Pipeline([('scaler', StandardScaler()),\n",
    "                            ('knn', KNeighborsRegressor(n_neighbors=k))])        \n",
    "        score = dp.cv_mse(pipe, i, X_train_subs, y_train_subs, X_vals, y_vals)\n",
    "        if score < best_score:\n",
    "            best_score = score\n",
    "            best_k = k\n",
    "    best_ks.append(best_k)\n",
    "print(\"number of neighbors that yields lowest MSE for each security:\", best_ks)"
   ]
  },
  {
   "cell_type": "code",
   "execution_count": 31,
   "id": "treated-sector",
   "metadata": {},
   "outputs": [
    {
     "name": "stdout",
     "output_type": "stream",
     "text": [
      "KNN results using the parameters that yields the lowest MSE\n",
      "Test set\n",
      "S&P 500\n",
      "number of trading positions taken with actual trend: 9\n",
      "number of trading positions taken with predicted trend: 25\n",
      "BSE SENSEX\n",
      "number of trading positions taken with actual trend: 4\n",
      "number of trading positions taken with predicted trend: 22\n",
      "Test set\n",
      "S&P 500\n",
      "profit with actual trend: 3.9777336540590267\n",
      "profit with predicted trend: 13.156348008848369\n",
      "BSE SENSEX\n",
      "profit with actual trend: 30.466683849995118\n",
      "profit with predicted trend: 28.36706162154242\n",
      "Average MSE KNN 0.21652080599883078\n"
     ]
    }
   ],
   "source": [
    "models = []\n",
    "for i in range(len(tickers)):\n",
    "    models.append(Pipeline([('scaler', StandardScaler()),\n",
    "                            ('knn', KNeighborsRegressor(n_neighbors=best_ks[i]))]).fit(X_trains[i], y_trains[i]))\n",
    "    \n",
    "print(\"KNN results using the parameters that yields the lowest MSE\")\n",
    "dp.test_summary(models, names, 'KNN', dfs_test, X_tests, y_tests, extra_profit_msetune, mse=True)"
   ]
  },
  {
   "cell_type": "code",
   "execution_count": 15,
   "id": "lovely-disclaimer",
   "metadata": {},
   "outputs": [
    {
     "data": {
      "text/plain": [
       "{'SVR': 8.40247174948765, 'KNN': 7.078992126336644}"
      ]
     },
     "execution_count": 15,
     "metadata": {},
     "output_type": "execute_result"
    }
   ],
   "source": [
    "extra_profit_msetune"
   ]
  },
  {
   "cell_type": "markdown",
   "id": "protecting-screw",
   "metadata": {},
   "source": [
    "<h3> results with 0 MSE"
   ]
  },
  {
   "cell_type": "code",
   "execution_count": 6,
   "id": "absent-array",
   "metadata": {},
   "outputs": [],
   "source": [
    "profits_0 = []\n",
    "for i in range(2):\n",
    "    df = dfs_test[i].copy()\n",
    "    trend_best = ta.predicted_trend(df, df['tr'].values)\n",
    "    df['trend_pred'] = trend_best\n",
    "    pa = dp.trading_decision(df['trend'].values)\n",
    "    pp = dp.trading_decision(df['trend_pred'].values)\n",
    "    df['actual position'] = pa\n",
    "    df['predicted position'] = pp\n",
    "    pro_a = dp.profit_calculation(df, actual=True)\n",
    "    pro_p = dp.profit_calculation(df)\n",
    "    profits_0.append(pro_p - pro_a)"
   ]
  },
  {
   "cell_type": "code",
   "execution_count": 7,
   "id": "satellite-cradle",
   "metadata": {},
   "outputs": [
    {
     "data": {
      "text/plain": [
       "[7.643704434895284, -1.8699846031119485]"
      ]
     },
     "execution_count": 7,
     "metadata": {},
     "output_type": "execute_result"
    }
   ],
   "source": [
    "profits_0"
   ]
  },
  {
   "cell_type": "code",
   "execution_count": 8,
   "id": "published-copper",
   "metadata": {},
   "outputs": [
    {
     "data": {
      "text/plain": [
       "5.773719831783335"
      ]
     },
     "execution_count": 8,
     "metadata": {},
     "output_type": "execute_result"
    }
   ],
   "source": [
    "np.sum(profits_0)"
   ]
  },
  {
   "cell_type": "markdown",
   "id": "designing-request",
   "metadata": {},
   "source": [
    "Notice that low MSE does not necessarily lead to higher profit, which may be due to the inadequacy of the strategy. Therefore, I will try to find the best parameters that yield the highest profit on the validation set. "
   ]
  },
  {
   "cell_type": "markdown",
   "id": "outstanding-sugar",
   "metadata": {},
   "source": [
    "<h3> using profit metrics\n",
    "\n",
    "<h3> SVR"
   ]
  },
  {
   "cell_type": "code",
   "execution_count": 33,
   "id": "integrated-sitting",
   "metadata": {},
   "outputs": [
    {
     "name": "stdout",
     "output_type": "stream",
     "text": [
      "SVR parameters that yield the highest profit on each security: [(1, 0.2805758207667252, 'rbf'), (1, 0.2805758207667252, 'rbf')]\n"
     ]
    }
   ],
   "source": [
    "best_params1 = []\n",
    "\n",
    "for i in range(len(tickers)):\n",
    "    best_profit = 0\n",
    "    for param in param_list:\n",
    "        profit = dp.cv_profit(pipe, i, dfs_train_sub, dfs_val, X_train_subs, y_train_subs, X_vals, y_vals)\n",
    "        if profit > best_profit:\n",
    "            best_profit = profit\n",
    "            best_param = param\n",
    "    best_params1.append(best_param)\n",
    "print(\"SVR parameters that yield the highest profit on each security:\", best_params1)"
   ]
  },
  {
   "cell_type": "code",
   "execution_count": 32,
   "id": "soviet-vertex",
   "metadata": {},
   "outputs": [
    {
     "name": "stdout",
     "output_type": "stream",
     "text": [
      "SVR results using the parameters that yields highest profit\n",
      "Test set\n",
      "S&P 500\n",
      "number of trading positions taken with actual trend: 9\n",
      "number of trading positions taken with predicted trend: 75\n",
      "BSE SENSEX\n",
      "number of trading positions taken with actual trend: 4\n",
      "number of trading positions taken with predicted trend: 47\n",
      "Test set\n",
      "S&P 500\n",
      "profit with actual trend: 3.9777336540590267\n",
      "profit with predicted trend: 2.1312616298783222\n",
      "BSE SENSEX\n",
      "profit with actual trend: 30.466683849995118\n",
      "profit with predicted trend: 19.261617140743255\n",
      "Average MSE SVR 26.436734093509507\n"
     ]
    }
   ],
   "source": [
    "models = []\n",
    "for i in range(len(tickers)):\n",
    "    pipe = Pipeline([('scaler', StandardScaler()), \n",
    "                         ('poly', PolynomialFeatures(degree=best_params1[i][0])),\n",
    "                          ('svr', SVR(C=best_params1[i][1], kernel=best_params1[i][2]))])\n",
    "    models.append(pipe.fit(X_trains[i], y_trains[i]))\n",
    "\n",
    "print(\"SVR results using the parameters that yields highest profit\")\n",
    "dp.test_summary(models, names, 'SVR', dfs_test, X_tests, y_tests, extra_profit_protune, mse=True)"
   ]
  },
  {
   "cell_type": "code",
   "execution_count": 26,
   "id": "dressed-symphony",
   "metadata": {},
   "outputs": [
    {
     "name": "stdout",
     "output_type": "stream",
     "text": [
      "number of neighbors that yields the highest profit for each security: [9, 8]\n"
     ]
    }
   ],
   "source": [
    "best_ks1 = []\n",
    "ks = np.arange(1, 20)\n",
    "\n",
    "best_param = []\n",
    "for i in range(len(tickers)):\n",
    "    best_k = 0\n",
    "    best_profit = 0\n",
    "    for k in ks:\n",
    "        profit = 0\n",
    "        pipe = Pipeline([('scaler', StandardScaler()),\n",
    "                            ('knn', KNeighborsRegressor(n_neighbors=k))])          \n",
    "        profit = dp.cv_profit(pipe, i, dfs_train_sub, dfs_val, X_train_subs, y_train_subs, X_vals, y_vals)\n",
    "        if profit > best_profit:\n",
    "            best_profit = profit\n",
    "            best_k = k\n",
    "    best_ks1.append(best_k)\n",
    "print(\"number of neighbors that yields the highest profit for each security:\", best_ks)"
   ]
  },
  {
   "cell_type": "code",
   "execution_count": 34,
   "id": "weird-spine",
   "metadata": {},
   "outputs": [
    {
     "name": "stdout",
     "output_type": "stream",
     "text": [
      "KNN results using the parameters that yields the lowest MSE\n",
      "Test set\n",
      "S&P 500\n",
      "number of trading positions taken with actual trend: 9\n",
      "number of trading positions taken with predicted trend: 25\n",
      "BSE SENSEX\n",
      "number of trading positions taken with actual trend: 4\n",
      "number of trading positions taken with predicted trend: 22\n",
      "Test set\n",
      "S&P 500\n",
      "profit with actual trend: 3.9777336540590267\n",
      "profit with predicted trend: 13.156348008848369\n",
      "BSE SENSEX\n",
      "profit with actual trend: 30.466683849995118\n",
      "profit with predicted trend: 28.36706162154242\n",
      "Average MSE KNN 0.20876160305174465\n"
     ]
    }
   ],
   "source": [
    "models = []\n",
    "for i in range(len(tickers)):\n",
    "    models.append(Pipeline([('scaler', StandardScaler()),\n",
    "                            ('knn', KNeighborsRegressor(n_neighbors=best_ks1[i]))]).fit(X_trains[i], y_trains[i]))\n",
    "\n",
    "print(\"KNN results using the parameters that yields the lowest MSE\")\n",
    "dp.test_summary(models, names, 'KNN', dfs_test, X_tests, y_tests, extra_profit_protune, mse=True)"
   ]
  },
  {
   "cell_type": "code",
   "execution_count": 28,
   "id": "wrapped-communications",
   "metadata": {},
   "outputs": [
    {
     "data": {
      "text/plain": [
       "{'SVR': -13.051538733432567, 'KNN': 7.078992126336644}"
      ]
     },
     "execution_count": 28,
     "metadata": {},
     "output_type": "execute_result"
    }
   ],
   "source": [
    "extra_profit_protune"
   ]
  },
  {
   "cell_type": "markdown",
   "id": "educated-equation",
   "metadata": {},
   "source": [
    "profit is much lower with tuned parameters for SVR."
   ]
  }
 ],
 "metadata": {
  "kernelspec": {
   "display_name": "Python 3",
   "language": "python",
   "name": "python3"
  },
  "language_info": {
   "codemirror_mode": {
    "name": "ipython",
    "version": 3
   },
   "file_extension": ".py",
   "mimetype": "text/x-python",
   "name": "python",
   "nbconvert_exporter": "python",
   "pygments_lexer": "ipython3",
   "version": "3.8.3"
  }
 },
 "nbformat": 4,
 "nbformat_minor": 5
}
